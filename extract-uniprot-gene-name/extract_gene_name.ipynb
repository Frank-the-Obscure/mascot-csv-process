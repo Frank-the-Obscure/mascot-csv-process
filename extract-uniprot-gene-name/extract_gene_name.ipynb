{
 "cells": [
  {
   "cell_type": "code",
   "execution_count": 20,
   "metadata": {
    "collapsed": false
   },
   "outputs": [],
   "source": [
    "import re\n",
    "from sys import argv\n",
    "\n",
    "#script, input_file = argv\n",
    "\n",
    "input_filename = 'uniprot-sausa300.tab'\n",
    "input_file = open(input_filename)\n",
    "\n",
    "output_csv = open(input_filename + '.csv','w', encoding='utf-8')\n",
    "output_gene = open(input_filename + 'gene.csv','w', encoding='utf-8')\n",
    "\n",
    "t = re.compile('\\t')\n",
    "b = re.compile(' ')\n",
    "\n",
    "\n",
    "output_gene.write('Gene, Gene name alias\\n')\n",
    "output_csv.write('Uniprot entry, Entry name, Protein names, Gene, Gene name alias\\n')\n",
    "\n",
    "for line in input_file:\n",
    "    #print(line)\n",
    "    entry = t.split(line)\n",
    "    #print(entry)\n",
    "    gene_name = b.split(entry[4]) #gene names\n",
    "    alias = []\n",
    "    gene = 0\n",
    "    for name in gene_name:\n",
    "        if re.match('SAUSA300', name):\n",
    "            gene = name\n",
    "        else:\n",
    "            alias.append(name)\n",
    "    #print(gene, ' '.join(alias))\n",
    "    if gene:\n",
    "        csv = [entry[0], entry[1], entry[3], gene, ' '.join(alias)] \n",
    "            # entry, entry name, protein names, gene, gene name alias\n",
    "        gene = gene + ',' + ' '.join(alias) + '\\n'\n",
    "        #gene = entry[]\n",
    "        output_gene.write(gene)\n",
    "        output_csv.write(','.join(csv) + '\\n')\n",
    "\n",
    "        "
   ]
  },
  {
   "cell_type": "code",
   "execution_count": null,
   "metadata": {
    "collapsed": true
   },
   "outputs": [],
   "source": []
  }
 ],
 "metadata": {
  "kernelspec": {
   "display_name": "Python 3",
   "language": "python",
   "name": "python3"
  },
  "language_info": {
   "codemirror_mode": {
    "name": "ipython",
    "version": 3
   },
   "file_extension": ".py",
   "mimetype": "text/x-python",
   "name": "python",
   "nbconvert_exporter": "python",
   "pygments_lexer": "ipython3",
   "version": "3.5.1"
  }
 },
 "nbformat": 4,
 "nbformat_minor": 0
}
